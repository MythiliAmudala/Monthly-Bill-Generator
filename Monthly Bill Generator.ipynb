from datetime import datetime, timedelta
from collections import defaultdict

def calculate_active_days(start_date_str, stop_date_str, target_month):
    start = datetime.strptime(start_date_str, "%Y-%m-%d")
    stop = datetime.strptime(stop_date_str, "%Y-%m-%d")

    # First and last day of the target month
    target_start = datetime.strptime(f"{target_month}-01", "%Y-%m-%d")
    if target_start.month == 12:
        next_month = target_start.replace(year=target_start.year + 1, month=1)
    else:
        next_month = target_start.replace(month=target_start.month + 1)
    target_end = next_month - timedelta(days=1)

    # Get overlapping date range
    active_start = max(start, target_start)
    active_end = min(stop, target_end)

    if active_start > active_end:
        return 0  # No overlap
    return (active_end - active_start).days + 1

def generate_monthly_bill(item_list: list, target_month: str) -> dict:
    grouped_items = defaultdict(lambda: {"qty": 0, "amount": 0.0})

    for item in item_list:
        try:
            start_date = item["start_date"]
            stop_date = item["stop_date"]
            qty = int(item["qty"])
            rate = float(item["rate"])
        except (KeyError, ValueError):
            continue  # Skip invalid entries

        # Calculate how many days the item is active in the target month
        active_days = calculate_active_days(start_date, stop_date, target_month)
        if active_days == 0:
            continue

        # Get first and last day of the billing period for this month
        target_start = datetime.strptime(f"{target_month}-01", "%Y-%m-%d")
        if target_start.month == 12:
            next_month = target_start.replace(year=target_start.year + 1, month=1)
        else:
            next_month = target_start.replace(month=target_start.month + 1)
        target_end = next_month - timedelta(days=1)
        billing_period = f"{target_start.strftime('%Y-%m-%d')} to {target_end.strftime('%Y-%m-%d')}"

        # Grouping key: item_code, rate, billing_period
        key = (item["item_code"], rate, billing_period)

        # Daily rate assumed to be rate per month divided by days in month
        days_in_month = (target_end - target_start).days + 1
        daily_rate = rate / days_in_month
        amount = round(qty * daily_rate * active_days, 2)

        grouped_items[key]["qty"] += qty
        grouped_items[key]["amount"] += amount

    # Build final result
    line_items = []
    total_revenue = 0.0

    for (item_code, rate, billing_period), data in grouped_items.items():
        line_items.append({
            "item_code": item_code,
            "rate": rate,
            "qty": data["qty"],
            "amount": round(data["amount"], 2),
            "billing_period": billing_period
        })
        total_revenue += data["amount"]

    return {
        "line_items": line_items,
        "total_revenue": round(total_revenue, 2)
    }

# Sample data
item_list = [
    {"idx": 1, "item_code": "Executive Desk (4*2)", "sales_description": "Dedicated Executive Desk", "qty": 10, "rate": "1000", "amount": "10000", "start_date": "2023-11-01", "stop_date": "2024-10-17"},
    {"idx": 2, "item_code": "Executive Desk (4*2)", "qty": "10", "rate": "1080", "amount": "10800", "start_date": "2024-10-18", "stop_date": "2025-10-31"},
    {"idx": 3, "item_code": "Executive Desk (4*2)", "qty": 15, "rate": "1080", "amount": "16200", "start_date": "2024-11-01", "stop_date": "2025-10-31"},
    {"idx": 4, "item_code": "Executive Desk (4*2)", "qty": 5, "rate": "1000", "amount": "5000", "start_date": "2024-11-01", "stop_date": "2025-10-31"},
    {"idx": 5, "item_code": "Manager Cabin", "qty": 5, "rate": 5000, "amount": 25000, "start_date": "2024-11-01", "stop_date": "2025-10-31"},
    {"idx": 6, "item_code": "Manager Cabin", "qty": 7, "rate": "5000", "amount": 35000, "start_date": "2024-12-15", "stop_date": "2025-10-31"},
    {"idx": 7, "item_code": "Manager Cabin", "qty": 10, "rate": 4600, "amount": 46000, "start_date": "2023-11-01", "stop_date": "2024-10-17"},
    {"idx": 8, "item_code": "Parking (2S)", "qty": 10, "rate": 1000, "amount": 10000, "start_date": "2024-11-01", "stop_date": "2025-10-31"},
    {"idx": 9, "item_code": "Parking (2S)", "qty": 10, "rate": 0, "amount": 0, "start_date": "2024-11-01", "stop_date": "2025-10-31"},
    {"idx": 10, "item_code": "Executive Desk (4*2)", "qty": "8", "rate": "1100", "amount": "8800", "start_date": "2024-11-15", "stop_date": "2025-01-31"},
    {"idx": 11, "item_code": "Manager Cabin", "qty": "3", "rate": "5200", "amount": "15600", "start_date": "2024-10-10", "stop_date": "2024-11-10"},
    {"idx": 12, "item_code": "Conference Table", "qty": 1, "rate": "20000", "amount": "20000", "start_date": "2024-11-05", "stop_date": "2024-11-20"},
    {"idx": 13, "item_code": "Parking (2S)", "qty": 5, "rate": "1000", "amount": "5000", "start_date": "2024-11-15", "stop_date": "2025-02-28"},
    {"idx": 14, "item_code": "Reception Desk", "qty": 2, "rate": "7000", "amount": "14000", "start_date": "2024-11-01", "stop_date": "2025-03-31"},
    {"idx": 15, "item_code": "Reception Desk", "qty": 1, "rate": "7000", "amount": "7000", "start_date": "2024-11-10", "stop_date": "2024-11-25"},
    {"idx": 16, "item_code": "Breakout Area", "qty": 3, "rate": "3000", "amount": "9000", "start_date": "2024-01-01", "stop_date": "2024-01-31"},
]

# Generate the bill for November 2024
target_month = "2024-11"
result = generate_monthly_bill(item_list, target_month)

# Output
from pprint import pprint
pprint(result)


